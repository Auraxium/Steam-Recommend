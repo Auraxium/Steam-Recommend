{
 "cells": [
  {
   "cell_type": "code",
   "execution_count": 87,
   "metadata": {},
   "outputs": [
    {
     "name": "stderr",
     "output_type": "stream",
     "text": [
      "C:\\Users\\Lemond Wyatt\\AppData\\Local\\Temp\\ipykernel_9552\\944804859.py:4: FutureWarning: The error_bad_lines argument has been deprecated and will be removed in a future version. Use on_bad_lines in the future.\n",
      "\n",
      "\n",
      "  data = pd.read_csv(os.getcwd() + '/steam_games2.csv', warn_bad_lines=True, error_bad_lines=False)\n",
      "C:\\Users\\Lemond Wyatt\\AppData\\Local\\Temp\\ipykernel_9552\\944804859.py:4: FutureWarning: The warn_bad_lines argument has been deprecated and will be removed in a future version. Use on_bad_lines in the future.\n",
      "\n",
      "\n",
      "  data = pd.read_csv(os.getcwd() + '/steam_games2.csv', warn_bad_lines=True, error_bad_lines=False)\n"
     ]
    },
    {
     "name": "stdout",
     "output_type": "stream",
     "text": [
      "40833\n"
     ]
    }
   ],
   "source": [
    "import pandas as pd\n",
    "import os.path\n",
    "\n",
    "data = pd.read_csv(os.getcwd() + '/steam_games2.csv', warn_bad_lines=True, error_bad_lines=False)\n",
    "print(len(Data))"
   ]
  },
  {
   "cell_type": "code",
   "execution_count": 88,
   "metadata": {},
   "outputs": [
    {
     "data": {
      "text/plain": [
       "['url',\n",
       " 'types',\n",
       " 'name',\n",
       " 'desc_snippet',\n",
       " 'recent_reviews',\n",
       " 'all_reviews',\n",
       " 'release_date',\n",
       " 'developer',\n",
       " 'publisher',\n",
       " 'popular_tags',\n",
       " 'game_details',\n",
       " 'languages',\n",
       " 'achievements',\n",
       " 'genre',\n",
       " 'game_description',\n",
       " 'mature_content',\n",
       " 'minimum_requirements',\n",
       " 'recommended_requirements',\n",
       " 'original_price',\n",
       " 'discount_price']"
      ]
     },
     "execution_count": 88,
     "metadata": {},
     "output_type": "execute_result"
    }
   ],
   "source": [
    "list(data.columns)"
   ]
  },
  {
   "cell_type": "code",
   "execution_count": 89,
   "metadata": {},
   "outputs": [
    {
     "name": "stdout",
     "output_type": "stream",
     "text": [
      "0        FPS,Gore,Action,Demons,Shooter,First-Person,Gr...\n",
      "1        Survival,Shooter,Multiplayer,Battle Royale,PvP...\n",
      "2        Mechs,Strategy,Turn-Based,Turn-Based Tactics,S...\n",
      "3        Survival,Zombies,Open World,Multiplayer,PvP,Ma...\n",
      "4        Space,Massively Multiplayer,Sci-fi,Sandbox,MMO...\n",
      "                               ...                        \n",
      "40828                                    Casual,Simulation\n",
      "40829                                    Casual,Simulation\n",
      "40830    RPG,Indie,Strategy,Software,Turn-Based,Fantasy...\n",
      "40831                                               Action\n",
      "40832                                        RPG,Adventure\n",
      "Name: popular_tags, Length: 40833, dtype: object\n"
     ]
    }
   ],
   "source": [
    "print(data['popular_tags'])\n"
   ]
  },
  {
   "cell_type": "code",
   "execution_count": 90,
   "metadata": {},
   "outputs": [
    {
     "name": "stdout",
     "output_type": "stream",
     "text": [
      "                                                    name  \\\n",
      "0                                                   DOOM   \n",
      "1                          PLAYERUNKNOWN'S BATTLEGROUNDS   \n",
      "2                                             BATTLETECH   \n",
      "3                                                   DayZ   \n",
      "4                                             EVE Online   \n",
      "...                                                  ...   \n",
      "40828  Rocksmith® 2014 Edition – Remastered – Sabaton...   \n",
      "40829  Rocksmith® 2014 Edition – Remastered – Stone T...   \n",
      "40830  Fantasy Grounds - Quests of Doom 4: A Midnight...   \n",
      "40831                       Mega Man X5 Sound Collection   \n",
      "40832                                   Stories In Stone   \n",
      "\n",
      "                                            desc_snippet  \\\n",
      "0      Now includes all three premium DLC packs (Unto...   \n",
      "1      PLAYERUNKNOWN'S BATTLEGROUNDS is a battle roya...   \n",
      "2      Take command of your own mercenary outfit of '...   \n",
      "3      The post-soviet country of Chernarus is struck...   \n",
      "4      EVE Online is a community-driven spaceship MMO...   \n",
      "...                                                  ...   \n",
      "40828                                                NaN   \n",
      "40829                                                NaN   \n",
      "40830                                                NaN   \n",
      "40831                                                NaN   \n",
      "40832  An RPG about a tribe exploring an ancient worl...   \n",
      "\n",
      "                                             all_reviews  release_date  \\\n",
      "0      Very Positive,(42,550),- 92% of the 42,550 use...  May 12, 2016   \n",
      "1      Mixed,(836,608),- 49% of the 836,608 user revi...  Dec 21, 2017   \n",
      "2      Mostly Positive,(7,030),- 71% of the 7,030 use...  Apr 24, 2018   \n",
      "3      Mixed,(167,115),- 61% of the 167,115 user revi...  Dec 13, 2018   \n",
      "4      Mostly Positive,(11,481),- 74% of the 11,481 u...   May 6, 2003   \n",
      "...                                                  ...           ...   \n",
      "40828                                                NaN  Feb 12, 2019   \n",
      "40829                                                NaN   Feb 5, 2019   \n",
      "40830                                                NaN  Jul 31, 2018   \n",
      "40831                                                NaN  Jul 24, 2018   \n",
      "40832                                                NaN   Aug 8, 2018   \n",
      "\n",
      "                     developer                                publisher  \\\n",
      "0                  id Software    Bethesda Softworks,Bethesda Softworks   \n",
      "1             PUBG Corporation        PUBG Corporation,PUBG Corporation   \n",
      "2          Harebrained Schemes  Paradox Interactive,Paradox Interactive   \n",
      "3          Bohemia Interactive  Bohemia Interactive,Bohemia Interactive   \n",
      "4                          CCP                                  CCP,CCP   \n",
      "...                        ...                                      ...   \n",
      "40828  Ubisoft - San Francisco                                      NaN   \n",
      "40829  Ubisoft - San Francisco                                      NaN   \n",
      "40830      SmiteWorks USA, LLC                                      NaN   \n",
      "40831          CAPCOM CO., LTD          CAPCOM CO., LTD,CAPCOM CO., LTD   \n",
      "40832      16 Bit Psych,Kyle B                Self-Publish,Self-Publish   \n",
      "\n",
      "                                            popular_tags  \\\n",
      "0      FPS,Gore,Action,Demons,Shooter,First-Person,Gr...   \n",
      "1      Survival,Shooter,Multiplayer,Battle Royale,PvP...   \n",
      "2      Mechs,Strategy,Turn-Based,Turn-Based Tactics,S...   \n",
      "3      Survival,Zombies,Open World,Multiplayer,PvP,Ma...   \n",
      "4      Space,Massively Multiplayer,Sci-fi,Sandbox,MMO...   \n",
      "...                                                  ...   \n",
      "40828                                  Casual,Simulation   \n",
      "40829                                  Casual,Simulation   \n",
      "40830  RPG,Indie,Strategy,Software,Turn-Based,Fantasy...   \n",
      "40831                                             Action   \n",
      "40832                                      RPG,Adventure   \n",
      "\n",
      "                                            game_details  \\\n",
      "0      Single-player,Multi-player,Co-op,Steam Achieve...   \n",
      "1                 Multi-player,Online Multi-Player,Stats   \n",
      "2      Single-player,Multi-player,Online Multi-Player...   \n",
      "3      Multi-player,Online Multi-Player,Steam Worksho...   \n",
      "4      Multi-player,Online Multi-Player,MMO,Co-op,Onl...   \n",
      "...                                                  ...   \n",
      "40828  Single-player,Shared/Split Screen,Downloadable...   \n",
      "40829  Single-player,Shared/Split Screen,Downloadable...   \n",
      "40830  Multi-player,Co-op,Cross-Platform Multiplayer,...   \n",
      "40831  Single-player,Downloadable Content,Steam Achie...   \n",
      "40832  Single-player,Partial Controller Support,Profi...   \n",
      "\n",
      "                                               languages  \\\n",
      "0      English,French,Italian,German,Spanish - Spain,...   \n",
      "1      English,Korean,Simplified Chinese,French,Germa...   \n",
      "2                          English,French,German,Russian   \n",
      "3      English,French,Italian,German,Spanish - Spain,...   \n",
      "4                          English,German,Russian,French   \n",
      "...                                                  ...   \n",
      "40828  English,German,French,Italian,Spanish - Spain,...   \n",
      "40829  English,German,French,Italian,Spanish - Spain,...   \n",
      "40830                                            English   \n",
      "40831  English,French,Italian,German,Spanish - Spain,...   \n",
      "40832                                            English   \n",
      "\n",
      "                                                   genre  \\\n",
      "0                                                 Action   \n",
      "1                 Action,Adventure,Massively Multiplayer   \n",
      "2                              Action,Adventure,Strategy   \n",
      "3                 Action,Adventure,Massively Multiplayer   \n",
      "4      Action,Free to Play,Massively Multiplayer,RPG,...   \n",
      "...                                                  ...   \n",
      "40828                                  Casual,Simulation   \n",
      "40829                                  Casual,Simulation   \n",
      "40830                                 Indie,RPG,Strategy   \n",
      "40831                                             Action   \n",
      "40832                                      Adventure,RPG   \n",
      "\n",
      "                                        game_description  \\\n",
      "0       About This Game Developed by id software, the...   \n",
      "1       About This Game  PLAYERUNKNOWN'S BATTLEGROUND...   \n",
      "2       About This Game  From original BATTLETECH/Mec...   \n",
      "3       About This Game The post-soviet country of Ch...   \n",
      "4                                      About This Game     \n",
      "...                                                  ...   \n",
      "40828   About This Content Play \"Ghost Division\" by S...   \n",
      "40829   About This Content Play \"Trippin’ on a Hole i...   \n",
      "40830   About This Content  Quests of Doom 4: A Midni...   \n",
      "40831   About This Content Get equipped with the stun...   \n",
      "40832   About This Game  An RPG about a tribe explori...   \n",
      "\n",
      "                                          mature_content  \n",
      "0                                                    NaN  \n",
      "1       Mature Content Description  The developers de...  \n",
      "2                                                    NaN  \n",
      "3                                                    NaN  \n",
      "4                                                    NaN  \n",
      "...                                                  ...  \n",
      "40828                                                NaN  \n",
      "40829                                                NaN  \n",
      "40830                                                NaN  \n",
      "40831                                                NaN  \n",
      "40832                                                NaN  \n",
      "\n",
      "[40817 rows x 12 columns]\n"
     ]
    }
   ],
   "source": [
    "data = data[data['name'].str.contains('', na=False)]\n",
    "data.drop(['url', 'types', 'recent_reviews', 'achievements', 'original_price', 'recommended_requirements', 'discount_price', 'minimum_requirements'], axis=1, inplace=True)\n",
    "print(data)\n",
    "\n",
    "# filtered_data.to_csv('steam_games3.csv', index=False)"
   ]
  }
 ],
 "metadata": {
  "kernelspec": {
   "display_name": "Python 3.9.6 64-bit",
   "language": "python",
   "name": "python3"
  },
  "language_info": {
   "codemirror_mode": {
    "name": "ipython",
    "version": 3
   },
   "file_extension": ".py",
   "mimetype": "text/x-python",
   "name": "python",
   "nbconvert_exporter": "python",
   "pygments_lexer": "ipython3",
   "version": "3.9.6"
  },
  "orig_nbformat": 4,
  "vscode": {
   "interpreter": {
    "hash": "6dca80bf27e5a8aad523c578f0026bfde9c3d49ddd17dc8742c6633995c4800a"
   }
  }
 },
 "nbformat": 4,
 "nbformat_minor": 2
}
