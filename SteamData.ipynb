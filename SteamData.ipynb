{
 "cells": [
  {
   "cell_type": "code",
   "execution_count": 36,
   "metadata": {},
   "outputs": [
    {
     "name": "stderr",
     "output_type": "stream",
     "text": [
      "C:\\Users\\Lemond Wyatt\\AppData\\Local\\Temp\\ipykernel_9552\\944804859.py:4: FutureWarning: The error_bad_lines argument has been deprecated and will be removed in a future version. Use on_bad_lines in the future.\n",
      "\n",
      "\n",
      "  data = pd.read_csv(os.getcwd() + '/steam_games2.csv', warn_bad_lines=True, error_bad_lines=False)\n",
      "C:\\Users\\Lemond Wyatt\\AppData\\Local\\Temp\\ipykernel_9552\\944804859.py:4: FutureWarning: The warn_bad_lines argument has been deprecated and will be removed in a future version. Use on_bad_lines in the future.\n",
      "\n",
      "\n",
      "  data = pd.read_csv(os.getcwd() + '/steam_games2.csv', warn_bad_lines=True, error_bad_lines=False)\n"
     ]
    },
    {
     "name": "stdout",
     "output_type": "stream",
     "text": [
      "40833\n"
     ]
    }
   ],
   "source": [
    "import pandas as pd\n",
    "import os.path\n",
    "\n",
    "data = pd.read_csv(os.getcwd() + '/steam_games2.csv', warn_bad_lines=True, error_bad_lines=False)\n",
    "print(len(Data))"
   ]
  },
  {
   "cell_type": "code",
   "execution_count": 37,
   "metadata": {},
   "outputs": [
    {
     "data": {
      "text/plain": [
       "['url',\n",
       " 'types',\n",
       " 'name',\n",
       " 'desc_snippet',\n",
       " 'recent_reviews',\n",
       " 'all_reviews',\n",
       " 'release_date',\n",
       " 'developer',\n",
       " 'publisher',\n",
       " 'popular_tags',\n",
       " 'game_details',\n",
       " 'languages',\n",
       " 'achievements',\n",
       " 'genre',\n",
       " 'game_description',\n",
       " 'mature_content',\n",
       " 'minimum_requirements',\n",
       " 'recommended_requirements',\n",
       " 'original_price',\n",
       " 'discount_price']"
      ]
     },
     "execution_count": 37,
     "metadata": {},
     "output_type": "execute_result"
    }
   ],
   "source": [
    "list(data.columns)"
   ]
  },
  {
   "cell_type": "code",
   "execution_count": 38,
   "metadata": {},
   "outputs": [
    {
     "name": "stdout",
     "output_type": "stream",
     "text": [
      "0        FPS,Gore,Action,Demons,Shooter,First-Person,Gr...\n",
      "1        Survival,Shooter,Multiplayer,Battle Royale,PvP...\n",
      "2        Mechs,Strategy,Turn-Based,Turn-Based Tactics,S...\n",
      "3        Survival,Zombies,Open World,Multiplayer,PvP,Ma...\n",
      "4        Space,Massively Multiplayer,Sci-fi,Sandbox,MMO...\n",
      "                               ...                        \n",
      "40828                                    Casual,Simulation\n",
      "40829                                    Casual,Simulation\n",
      "40830    RPG,Indie,Strategy,Software,Turn-Based,Fantasy...\n",
      "40831                                               Action\n",
      "40832                                        RPG,Adventure\n",
      "Name: popular_tags, Length: 40833, dtype: object\n"
     ]
    }
   ],
   "source": [
    "print(data['popular_tags'])\n"
   ]
  },
  {
   "cell_type": "code",
   "execution_count": 53,
   "metadata": {},
   "outputs": [
    {
     "name": "stdout",
     "output_type": "stream",
     "text": [
      "Empty DataFrame\n",
      "Columns: [url, types, name, desc_snippet, recent_reviews, all_reviews, release_date, developer, publisher, popular_tags, game_details, languages, achievements, genre, game_description, mature_content, minimum_requirements, recommended_requirements, original_price, discount_price]\n",
      "Index: []\n"
     ]
    }
   ],
   "source": [
    "filtered_data = data[data['name'].str.contains('warframe', na=False)]\n",
    "print(filtered_data)"
   ]
  }
 ],
 "metadata": {
  "kernelspec": {
   "display_name": "Python 3.9.6 64-bit",
   "language": "python",
   "name": "python3"
  },
  "language_info": {
   "codemirror_mode": {
    "name": "ipython",
    "version": 3
   },
   "file_extension": ".py",
   "mimetype": "text/x-python",
   "name": "python",
   "nbconvert_exporter": "python",
   "pygments_lexer": "ipython3",
   "version": "3.9.6"
  },
  "orig_nbformat": 4,
  "vscode": {
   "interpreter": {
    "hash": "6dca80bf27e5a8aad523c578f0026bfde9c3d49ddd17dc8742c6633995c4800a"
   }
  }
 },
 "nbformat": 4,
 "nbformat_minor": 2
}
